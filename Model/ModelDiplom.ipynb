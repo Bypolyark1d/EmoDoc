{
  "nbformat": 4,
  "nbformat_minor": 0,
  "metadata": {
    "colab": {
      "provenance": []
    },
    "kernelspec": {
      "name": "python3",
      "display_name": "Python 3"
    },
    "language_info": {
      "name": "python"
    }
  },
  "cells": [
    {
      "cell_type": "code",
      "source": [
        "import pandas as pd\n",
        "emotion_map = {\n",
        "    0: 'sadness',\n",
        "    1: 'joy',\n",
        "    2: 'love',\n",
        "    3: 'anger',\n",
        "    4: 'fear',\n",
        "    5: 'surprise'\n",
        "}\n",
        "#Пути\n",
        "dataset_paths = [\n",
        "    '/content/drive/MyDrive/DataSet/testpola.parquet',\n",
        "    '/content/drive/MyDrive/DataSet/tweet_emotions.csv',\n",
        "    '/content/drive/MyDrive/DataSet/emotion_sentimen_dataset.csv',\n",
        "    '/content/drive/MyDrive/DataSet/text.csv',\n",
        "]\n",
        "data_parquet = pd.read_parquet(dataset_paths[0])\n",
        "data_parquet = data_parquet.reset_index(drop=True)\n",
        "datasets_csv = [pd.read_csv(path) for path in dataset_paths[1:]]\n",
        "\n",
        "datasets_csv[0] = datasets_csv[0].rename(columns={'content': 'text', 'sentiment': 'label'})\n",
        "datasets_csv[0]['label'] = datasets_csv[0]['label'].map({\n",
        "    'sadness': 0, 'joy': 1, 'love': 2, 'anger': 3, 'fear': 4, 'surprise': 5\n",
        "})\n",
        "datasets_csv[1] = datasets_csv[1].rename(columns={'text': 'text', 'Emotion': 'label'})\n",
        "datasets_csv[1]['label'] = datasets_csv[1]['label'].map({\n",
        "    'sadness': 0, 'joy': 1, 'love': 2, 'anger': 3, 'fear': 4, 'surprise': 5, 'neutral': 6, 'hate': 7, 'enthusiasm': 8\n",
        "})\n",
        "datasets_csv[2] = datasets_csv[2].rename(columns={'Unnamed: 0': 'index'}).drop(columns=['index'])\n",
        "datasets_csv[2] = datasets_csv[2].reset_index(drop=True)\n",
        "data_parquet = data_parquet.rename(columns={'text': 'text', 'label': 'label'})\n",
        "\n",
        "data = pd.concat([data_parquet] + datasets_csv, ignore_index=True)\n",
        "\n",
        "data = data[data['label'].isin(emotion_map.keys())]\n",
        "data['Unnamed: 0'] = data.index\n",
        "if 'tweet_id' in data.columns:\n",
        "    data = data.drop(columns=['tweet_id'])\n",
        "data['emotion'] = data['label'].map(emotion_map)\n",
        "data_filtered = data.dropna(subset=['text', 'label'])\n",
        "data_filtered['label'] = data_filtered['label'].astype(int)\n",
        "data_filtered[['Unnamed: 0', 'text', 'label']].to_csv('/content/drive/MyDrive/DataSet/filtered_data.csv', index=False)\n",
        "print(\"\\nДатасет успешно сохранен в filtered_data.csv\")"
      ],
      "metadata": {
        "colab": {
          "base_uri": "https://localhost:8080/"
        },
        "id": "a6MOFjE3RymF",
        "outputId": "8753f1d7-ee19-439b-c914-72dfa838a90c"
      },
      "execution_count": null,
      "outputs": [
        {
          "output_type": "stream",
          "name": "stdout",
          "text": [
            "\n",
            "Датасет успешно сохранен в filtered_data.csv\n"
          ]
        }
      ]
    },
    {
      "cell_type": "code",
      "source": [
        "import pandas as pd\n",
        "import numpy as np\n",
        "import seaborn as sns\n",
        "import matplotlib.pyplot as plt\n",
        "\n",
        "import pandas as pd\n",
        "import numpy as np\n",
        "import seaborn as sns\n",
        "import matplotlib.pyplot as plt\n",
        "\n",
        "import re\n",
        "import nltk\n",
        "from nltk.corpus import stopwords\n",
        "from nltk.tokenize import word_tokenize\n",
        "from nltk.stem import PorterStemmer\n",
        "from sklearn.feature_extraction.text import CountVectorizer\n",
        "from sklearn.model_selection import train_test_split\n",
        "from tensorflow.keras.preprocessing.text import Tokenizer\n",
        "from tensorflow.keras.preprocessing.sequence import pad_sequences\n",
        "from tensorflow.keras.models import Sequential\n",
        "from tensorflow.keras.layers import Embedding, Conv1D, GlobalMaxPooling1D, Dense\n",
        "from tensorflow.keras.callbacks import EarlyStopping\n",
        "from tensorflow.keras.layers import BatchNormalization\n",
        "from nltk.stem.snowball import SnowballStemmer\n",
        "from sklearn.metrics import confusion_matrix, classification_report, roc_curve, auc\n",
        "\n",
        "nltk.download('omw-1.4')\n",
        "nltk.download('stopwords')\n",
        "nltk.download('wordnet')\n",
        "nltk.download('punkt')\n",
        "nltk.download('punkt_tab')\n",
        "import warnings\n",
        "warnings.filterwarnings ('ignore')\n"
      ],
      "metadata": {
        "id": "jMtd4k1WU1LU",
        "colab": {
          "base_uri": "https://localhost:8080/"
        },
        "outputId": "2747c934-bfcd-4679-be00-ca49ac9cb9e6"
      },
      "execution_count": null,
      "outputs": [
        {
          "output_type": "stream",
          "name": "stderr",
          "text": [
            "[nltk_data] Downloading package omw-1.4 to /root/nltk_data...\n",
            "[nltk_data]   Package omw-1.4 is already up-to-date!\n",
            "[nltk_data] Downloading package stopwords to /root/nltk_data...\n",
            "[nltk_data]   Package stopwords is already up-to-date!\n",
            "[nltk_data] Downloading package wordnet to /root/nltk_data...\n",
            "[nltk_data]   Package wordnet is already up-to-date!\n",
            "[nltk_data] Downloading package punkt to /root/nltk_data...\n",
            "[nltk_data]   Package punkt is already up-to-date!\n",
            "[nltk_data] Downloading package punkt_tab to /root/nltk_data...\n",
            "[nltk_data]   Package punkt_tab is already up-to-date!\n"
          ]
        }
      ]
    },
    {
      "cell_type": "code",
      "source": [
        "DATASET_PATH = \"/content/drive/MyDrive/DataSet/translated_file.csv\"\n",
        "# Загрузка данных\n",
        "df = pd.read_csv(DATASET_PATH)\n",
        "df = df.drop(columns=['Unnamed: 0'])\n",
        "df = df.drop_duplicates()"
      ],
      "metadata": {
        "id": "h4Uhz40k1eIE"
      },
      "execution_count": null,
      "outputs": []
    },
    {
      "cell_type": "code",
      "source": [
        "def null_count(df):\n",
        "    return pd.DataFrame({\n",
        "        'features': df.columns,\n",
        "        'dtypes': df.dtypes.values,\n",
        "        'NaN count': df.isnull().sum().values,\n",
        "        'NaN percentage': df.isnull().sum().values / df.shape[0]\n",
        "    }).style.background_gradient(cmap='turbo', low=0.1, high=0.01)\n",
        "null_count(df)"
      ],
      "metadata": {
        "colab": {
          "base_uri": "https://localhost:8080/",
          "height": 143
        },
        "id": "BqSwqfNO1lBC",
        "outputId": "e0f80da8-77b2-4596-ed33-ebfb72a071bd"
      },
      "execution_count": null,
      "outputs": [
        {
          "output_type": "execute_result",
          "data": {
            "text/plain": [
              "<pandas.io.formats.style.Styler at 0x7fbfaba37f50>"
            ],
            "text/html": [
              "<style type=\"text/css\">\n",
              "#T_13583_row0_col2, #T_13583_row0_col3, #T_13583_row1_col2, #T_13583_row1_col3, #T_13583_row2_col2, #T_13583_row2_col3 {\n",
              "  background-color: #30123b;\n",
              "  color: #f1f1f1;\n",
              "}\n",
              "</style>\n",
              "<table id=\"T_13583\" class=\"dataframe\">\n",
              "  <thead>\n",
              "    <tr>\n",
              "      <th class=\"blank level0\" >&nbsp;</th>\n",
              "      <th id=\"T_13583_level0_col0\" class=\"col_heading level0 col0\" >features</th>\n",
              "      <th id=\"T_13583_level0_col1\" class=\"col_heading level0 col1\" >dtypes</th>\n",
              "      <th id=\"T_13583_level0_col2\" class=\"col_heading level0 col2\" >NaN count</th>\n",
              "      <th id=\"T_13583_level0_col3\" class=\"col_heading level0 col3\" >NaN percentage</th>\n",
              "    </tr>\n",
              "  </thead>\n",
              "  <tbody>\n",
              "    <tr>\n",
              "      <th id=\"T_13583_level0_row0\" class=\"row_heading level0 row0\" >0</th>\n",
              "      <td id=\"T_13583_row0_col0\" class=\"data row0 col0\" >text</td>\n",
              "      <td id=\"T_13583_row0_col1\" class=\"data row0 col1\" >object</td>\n",
              "      <td id=\"T_13583_row0_col2\" class=\"data row0 col2\" >0</td>\n",
              "      <td id=\"T_13583_row0_col3\" class=\"data row0 col3\" >0.000000</td>\n",
              "    </tr>\n",
              "    <tr>\n",
              "      <th id=\"T_13583_level0_row1\" class=\"row_heading level0 row1\" >1</th>\n",
              "      <td id=\"T_13583_row1_col0\" class=\"data row1 col0\" >label</td>\n",
              "      <td id=\"T_13583_row1_col1\" class=\"data row1 col1\" >int64</td>\n",
              "      <td id=\"T_13583_row1_col2\" class=\"data row1 col2\" >0</td>\n",
              "      <td id=\"T_13583_row1_col3\" class=\"data row1 col3\" >0.000000</td>\n",
              "    </tr>\n",
              "    <tr>\n",
              "      <th id=\"T_13583_level0_row2\" class=\"row_heading level0 row2\" >2</th>\n",
              "      <td id=\"T_13583_row2_col0\" class=\"data row2 col0\" >translated_column</td>\n",
              "      <td id=\"T_13583_row2_col1\" class=\"data row2 col1\" >object</td>\n",
              "      <td id=\"T_13583_row2_col2\" class=\"data row2 col2\" >0</td>\n",
              "      <td id=\"T_13583_row2_col3\" class=\"data row2 col3\" >0.000000</td>\n",
              "    </tr>\n",
              "  </tbody>\n",
              "</table>\n"
            ]
          },
          "metadata": {},
          "execution_count": 24
        }
      ]
    },
    {
      "cell_type": "code",
      "source": [
        "# функция очистки текста\n",
        "def clean_text(text, stemmer, stop_words):\n",
        "    if not isinstance(text, str):  # защита от NaN\n",
        "        return \"\"\n",
        "    text = text.lower()\n",
        "    text = re.sub(r'http\\S+|www\\.\\S+', '', text)\n",
        "    text = re.sub(r'[^\\w\\s]', '', text)\n",
        "    text = re.sub('\\w*\\d\\w*', '', text)\n",
        "    tokens = word_tokenize(text)\n",
        "    cleaned_tokens = [stemmer.stem(token) for token in tokens if token not in stop_words]\n",
        "    return ' '.join(cleaned_tokens)"
      ],
      "metadata": {
        "id": "tHfhVsLm1oBv"
      },
      "execution_count": null,
      "outputs": []
    },
    {
      "cell_type": "code",
      "source": [
        "df['text'] = df['translated_column']\n",
        "df = df.drop(columns=['translated_column'])\n",
        "df = df.dropna(subset=['text'])"
      ],
      "metadata": {
        "id": "BlSDIADfAaNN"
      },
      "execution_count": null,
      "outputs": []
    },
    {
      "cell_type": "code",
      "source": [
        "df['text'].head()"
      ],
      "metadata": {
        "colab": {
          "base_uri": "https://localhost:8080/",
          "height": 241
        },
        "id": "HKINZgk4A-XJ",
        "outputId": "ee075ddf-9f23-4bcf-bd6b-463613d7bbbe"
      },
      "execution_count": null,
      "outputs": [
        {
          "output_type": "execute_result",
          "data": {
            "text/plain": [
              "0    я чувствую себя ужасно из-за этого, потому что...\n",
              "1                 в одиночестве я чувствую себя ужасно\n",
              "2    я, вероятно, уже упоминал об этом раньше, но я...\n",
              "3    я чувствовал себя немного низко несколько дней...\n",
              "4    я уверен, что я гораздо более чувствителен к ч...\n",
              "Name: text, dtype: object"
            ],
            "text/html": [
              "<div>\n",
              "<style scoped>\n",
              "    .dataframe tbody tr th:only-of-type {\n",
              "        vertical-align: middle;\n",
              "    }\n",
              "\n",
              "    .dataframe tbody tr th {\n",
              "        vertical-align: top;\n",
              "    }\n",
              "\n",
              "    .dataframe thead th {\n",
              "        text-align: right;\n",
              "    }\n",
              "</style>\n",
              "<table border=\"1\" class=\"dataframe\">\n",
              "  <thead>\n",
              "    <tr style=\"text-align: right;\">\n",
              "      <th></th>\n",
              "      <th>text</th>\n",
              "    </tr>\n",
              "  </thead>\n",
              "  <tbody>\n",
              "    <tr>\n",
              "      <th>0</th>\n",
              "      <td>я чувствую себя ужасно из-за этого, потому что...</td>\n",
              "    </tr>\n",
              "    <tr>\n",
              "      <th>1</th>\n",
              "      <td>в одиночестве я чувствую себя ужасно</td>\n",
              "    </tr>\n",
              "    <tr>\n",
              "      <th>2</th>\n",
              "      <td>я, вероятно, уже упоминал об этом раньше, но я...</td>\n",
              "    </tr>\n",
              "    <tr>\n",
              "      <th>3</th>\n",
              "      <td>я чувствовал себя немного низко несколько дней...</td>\n",
              "    </tr>\n",
              "    <tr>\n",
              "      <th>4</th>\n",
              "      <td>я уверен, что я гораздо более чувствителен к ч...</td>\n",
              "    </tr>\n",
              "  </tbody>\n",
              "</table>\n",
              "</div><br><label><b>dtype:</b> object</label>"
            ]
          },
          "metadata": {},
          "execution_count": 27
        }
      ]
    },
    {
      "cell_type": "code",
      "source": [
        "#обработка текста\n",
        "stemmer = SnowballStemmer(\"russian\")\n",
        "stop_words = set(stopwords.words('russian'))\n",
        "df['cleaned_text'] = df['text'].apply(lambda x: clean_text(x, stemmer, stop_words))\n",
        "print(df[['text', 'cleaned_text']])\n",
        "emotion_mapping = {0: 'sadness', 1: 'joy', 2: 'love', 3: 'anger', 4: 'fear', 5: 'surprise'}\n",
        "df['Emotion'] = df['label'].map(emotion_mapping)"
      ],
      "metadata": {
        "colab": {
          "base_uri": "https://localhost:8080/"
        },
        "id": "5uVmJzJf1xCs",
        "outputId": "2ebd3827-66c7-4f72-97dd-40103a1663b8"
      },
      "execution_count": null,
      "outputs": [
        {
          "output_type": "stream",
          "name": "stdout",
          "text": [
            "                                                     text  \\\n",
            "0       я чувствую себя ужасно из-за этого, потому что...   \n",
            "1                    в одиночестве я чувствую себя ужасно   \n",
            "2       я, вероятно, уже упоминал об этом раньше, но я...   \n",
            "3       я чувствовал себя немного низко несколько дней...   \n",
            "4       я уверен, что я гораздо более чувствителен к ч...   \n",
            "...                                                   ...   \n",
            "466445  я провел один, не чувствуя себя нелюбимым и бр...   \n",
            "466446  я люблю этого ребенка и чувствую себя привилег...   \n",
            "466450  я чувствовала себя бесполезной и безнадежной в...   \n",
            "466451  я чувствую себя одним из популярных детей на д...   \n",
            "466453  я действительно чувствую себя умным в классе, ...   \n",
            "\n",
            "                                             cleaned_text  \n",
            "0       чувств ужасн изз эт работ получ состоян преусп...  \n",
            "1                                 одиночеств чувств ужасн  \n",
            "2       вероятн упомина раньш действительн горж соб са...  \n",
            "3                  чувствова немн низк нескольк дне назад  \n",
            "4       увер горазд чувствител чувств друг люд прав со...  \n",
            "...                                                   ...  \n",
            "466445                      провел чувству нелюбим брошен  \n",
            "466446                    любл ребенк чувств привилег мам  \n",
            "466450     чувствова бесполезн безнадежн игр назван любов  \n",
            "466451  чувств одн популярн дет детск площадк выбра уч...  \n",
            "466453         действительн чувств умн класс средн ученик  \n",
            "\n",
            "[445399 rows x 2 columns]\n"
          ]
        }
      ]
    },
    {
      "cell_type": "code",
      "source": [
        "# Визуализация распределения эмоций\n",
        "def plot_emotion_distribution(df):\n",
        "    emotion_counts = df.groupby(\"Emotion\").size()\n",
        "    colors = ['#66b3ff', '#99ff99', '#ffcc99', '#ff6666', '#c2c2f0', '#ff9999']  # Цвета для категорий\n",
        "    fig, ax = plt.subplots()\n",
        "    ax.pie(emotion_counts, labels=emotion_counts.index, autopct='%1.1f%%', colors=colors, explode=[0]*len(emotion_counts), shadow=True)\n",
        "    ax.add_artist(plt.Circle((0, 0), 0.6, color='white'))\n",
        "    ax.legend(emotion_counts.index, title=\"Эмоции\", loc=\"center left\", bbox_to_anchor=(1, 0, 0.5, 1))\n",
        "    ax.axis('equal')\n",
        "    plt.title('Распределение эмоций')\n",
        "    plt.show()\n",
        "plot_emotion_distribution(df)\n"
      ],
      "metadata": {
        "colab": {
          "base_uri": "https://localhost:8080/",
          "height": 428
        },
        "id": "3V2hDshr2Amv",
        "outputId": "f28e3b40-f65d-4927-c6a4-9982c73bb38c"
      },
      "execution_count": null,
      "outputs": [
        {
          "output_type": "display_data",
          "data": {
            "text/plain": [
              "<Figure size 640x480 with 1 Axes>"
            ],
            "image/png": "[encoded data removed]"
          },
          "metadata": {}
        }
      ]
    },
    {
      "cell_type": "code",
      "source": [
        "# Подготовка данных для модели\n",
        "X_train, X_test, y_train, y_test = train_test_split(df['cleaned_text'], df['label'], test_size=0.2, random_state=42)\n",
        "tokenizer = Tokenizer(num_words=50000)\n",
        "tokenizer.fit_on_texts(X_train)\n",
        "X_train_padded = pad_sequences(tokenizer.texts_to_sequences(X_train), maxlen=500, padding='post')\n",
        "X_test_padded = pad_sequences(tokenizer.texts_to_sequences(X_test), maxlen=500, padding='post')"
      ],
      "metadata": {
        "id": "UUHwSwL42NFH"
      },
      "execution_count": null,
      "outputs": []
    },
    {
      "cell_type": "code",
      "source": [
        "word_index = tokenizer.word_index\n",
        "import json\n",
        "\n",
        "# Сохраняем word_index в файл\n",
        "with open('word_index.json', 'w') as f:\n",
        "    json.dump(word_index, f)"
      ],
      "metadata": {
        "id": "Qzn1QNQZygCT"
      },
      "execution_count": null,
      "outputs": []
    },
    {
      "cell_type": "code",
      "source": [
        "import nltk\n",
        "nltk.download('stopwords')\n",
        "from nltk.corpus import stopwords\n",
        "\n",
        "stop_words = set(stopwords.words('russian'))\n",
        "with open(\"stopwords.txt\", \"w\") as f:\n",
        "    for word in stop_words:\n",
        "        f.write(word + \"\\n\")"
      ],
      "metadata": {
        "colab": {
          "base_uri": "https://localhost:8080/"
        },
        "id": "2JJTnuPT21Lw",
        "outputId": "b51b7cd5-f165-4844-9110-5aa05585fc6a"
      },
      "execution_count": null,
      "outputs": [
        {
          "output_type": "stream",
          "name": "stderr",
          "text": [
            "[nltk_data] Downloading package stopwords to /root/nltk_data...\n",
            "[nltk_data]   Package stopwords is already up-to-date!\n"
          ]
        }
      ]
    },
    {
      "cell_type": "code",
      "source": [
        "#модель CNN\n",
        "def build_cnn_model(input_dim=50000, output_dim=16, input_length=500, num_classes=6):\n",
        "    model = Sequential()\n",
        "    model.add(Embedding(input_dim=input_dim, output_dim=output_dim, input_length=input_length))\n",
        "    model.add(Conv1D(filters=128, kernel_size=5, activation='relu'))\n",
        "    model.add(GlobalMaxPooling1D())\n",
        "    model.add(Dense(units=64, activation='relu'))\n",
        "    model.add(Dense(units=num_classes, activation='softmax'))\n",
        "    model.compile(optimizer='adam', loss='sparse_categorical_crossentropy', metrics=['accuracy'])\n",
        "    return model\n",
        "\n",
        "\n",
        "cnn_model = build_cnn_model()\n",
        "cnn_model.summary()"
      ],
      "metadata": {
        "colab": {
          "base_uri": "https://localhost:8080/",
          "height": 305
        },
        "id": "BdUkrcSp2OJ3",
        "outputId": "f98450af-ee88-4d2f-e718-ae0bf5d0e672"
      },
      "execution_count": null,
      "outputs": [
        {
          "output_type": "display_data",
          "data": {
            "text/plain": [
              "\u001b[1mModel: \"sequential_2\"\u001b[0m\n"
            ],
            "text/html": [
              "<pre style=\"white-space:pre;overflow-x:auto;line-height:normal;font-family:Menlo,'DejaVu Sans Mono',consolas,'Courier New',monospace\"><span style=\"font-weight: bold\">Model: \"sequential_2\"</span>\n",
              "</pre>\n"
            ]
          },
          "metadata": {}
        },
        {
          "output_type": "display_data",
          "data": {
            "text/plain": [
              "┏━━━━━━━━━━━━━━━━━━━━━━━━━━━━━━━━━┳━━━━━━━━━━━━━━━━━━━━━━━━┳━━━━━━━━━━━━━━━┓\n",
              "┃\u001b[1m \u001b[0m\u001b[1mLayer (type)                   \u001b[0m\u001b[1m \u001b[0m┃\u001b[1m \u001b[0m\u001b[1mOutput Shape          \u001b[0m\u001b[1m \u001b[0m┃\u001b[1m \u001b[0m\u001b[1m      Param #\u001b[0m\u001b[1m \u001b[0m┃\n",
              "┡━━━━━━━━━━━━━━━━━━━━━━━━━━━━━━━━━╇━━━━━━━━━━━━━━━━━━━━━━━━╇━━━━━━━━━━━━━━━┩\n",
              "│ embedding_2 (\u001b[38;5;33mEmbedding\u001b[0m)         │ ?                      │   \u001b[38;5;34m0\u001b[0m (unbuilt) │\n",
              "├─────────────────────────────────┼────────────────────────┼───────────────┤\n",
              "│ conv1d_2 (\u001b[38;5;33mConv1D\u001b[0m)               │ ?                      │   \u001b[38;5;34m0\u001b[0m (unbuilt) │\n",
              "├─────────────────────────────────┼────────────────────────┼───────────────┤\n",
              "│ global_max_pooling1d_2          │ ?                      │             \u001b[38;5;34m0\u001b[0m │\n",
              "│ (\u001b[38;5;33mGlobalMaxPooling1D\u001b[0m)            │                        │               │\n",
              "├─────────────────────────────────┼────────────────────────┼───────────────┤\n",
              "│ dense_4 (\u001b[38;5;33mDense\u001b[0m)                 │ ?                      │   \u001b[38;5;34m0\u001b[0m (unbuilt) │\n",
              "├─────────────────────────────────┼────────────────────────┼───────────────┤\n",
              "│ dense_5 (\u001b[38;5;33mDense\u001b[0m)                 │ ?                      │   \u001b[38;5;34m0\u001b[0m (unbuilt) │\n",
              "└─────────────────────────────────┴────────────────────────┴───────────────┘\n"
            ],
            "text/html": [
              "<pre style=\"white-space:pre;overflow-x:auto;line-height:normal;font-family:Menlo,'DejaVu Sans Mono',consolas,'Courier New',monospace\">┏━━━━━━━━━━━━━━━━━━━━━━━━━━━━━━━━━┳━━━━━━━━━━━━━━━━━━━━━━━━┳━━━━━━━━━━━━━━━┓\n",
              "┃<span style=\"font-weight: bold\"> Layer (type)                    </span>┃<span style=\"font-weight: bold\"> Output Shape           </span>┃<span style=\"font-weight: bold\">       Param # </span>┃\n",
              "┡━━━━━━━━━━━━━━━━━━━━━━━━━━━━━━━━━╇━━━━━━━━━━━━━━━━━━━━━━━━╇━━━━━━━━━━━━━━━┩\n",
              "│ embedding_2 (<span style=\"color: #0087ff; text-decoration-color: #0087ff\">Embedding</span>)         │ ?                      │   <span style=\"color: #00af00; text-decoration-color: #00af00\">0</span> (unbuilt) │\n",
              "├─────────────────────────────────┼────────────────────────┼───────────────┤\n",
              "│ conv1d_2 (<span style=\"color: #0087ff; text-decoration-color: #0087ff\">Conv1D</span>)               │ ?                      │   <span style=\"color: #00af00; text-decoration-color: #00af00\">0</span> (unbuilt) │\n",
              "├─────────────────────────────────┼────────────────────────┼───────────────┤\n",
              "│ global_max_pooling1d_2          │ ?                      │             <span style=\"color: #00af00; text-decoration-color: #00af00\">0</span> │\n",
              "│ (<span style=\"color: #0087ff; text-decoration-color: #0087ff\">GlobalMaxPooling1D</span>)            │                        │               │\n",
              "├─────────────────────────────────┼────────────────────────┼───────────────┤\n",
              "│ dense_4 (<span style=\"color: #0087ff; text-decoration-color: #0087ff\">Dense</span>)                 │ ?                      │   <span style=\"color: #00af00; text-decoration-color: #00af00\">0</span> (unbuilt) │\n",
              "├─────────────────────────────────┼────────────────────────┼───────────────┤\n",
              "│ dense_5 (<span style=\"color: #0087ff; text-decoration-color: #0087ff\">Dense</span>)                 │ ?                      │   <span style=\"color: #00af00; text-decoration-color: #00af00\">0</span> (unbuilt) │\n",
              "└─────────────────────────────────┴────────────────────────┴───────────────┘\n",
              "</pre>\n"
            ]
          },
          "metadata": {}
        },
        {
          "output_type": "display_data",
          "data": {
            "text/plain": [
              "\u001b[1m Total params: \u001b[0m\u001b[38;5;34m0\u001b[0m (0.00 B)\n"
            ],
            "text/html": [
              "<pre style=\"white-space:pre;overflow-x:auto;line-height:normal;font-family:Menlo,'DejaVu Sans Mono',consolas,'Courier New',monospace\"><span style=\"font-weight: bold\"> Total params: </span><span style=\"color: #00af00; text-decoration-color: #00af00\">0</span> (0.00 B)\n",
              "</pre>\n"
            ]
          },
          "metadata": {}
        },
        {
          "output_type": "display_data",
          "data": {
            "text/plain": [
              "\u001b[1m Trainable params: \u001b[0m\u001b[38;5;34m0\u001b[0m (0.00 B)\n"
            ],
            "text/html": [
              "<pre style=\"white-space:pre;overflow-x:auto;line-height:normal;font-family:Menlo,'DejaVu Sans Mono',consolas,'Courier New',monospace\"><span style=\"font-weight: bold\"> Trainable params: </span><span style=\"color: #00af00; text-decoration-color: #00af00\">0</span> (0.00 B)\n",
              "</pre>\n"
            ]
          },
          "metadata": {}
        },
        {
          "output_type": "display_data",
          "data": {
            "text/plain": [
              "\u001b[1m Non-trainable params: \u001b[0m\u001b[38;5;34m0\u001b[0m (0.00 B)\n"
            ],
            "text/html": [
              "<pre style=\"white-space:pre;overflow-x:auto;line-height:normal;font-family:Menlo,'DejaVu Sans Mono',consolas,'Courier New',monospace\"><span style=\"font-weight: bold\"> Non-trainable params: </span><span style=\"color: #00af00; text-decoration-color: #00af00\">0</span> (0.00 B)\n",
              "</pre>\n"
            ]
          },
          "metadata": {}
        }
      ]
    },
    {
      "cell_type": "code",
      "source": [
        "#Обучение\n",
        "def train_model(model, X_train, y_train, X_val, y_val, epochs=15, patience=3):\n",
        "    early_stopping = EarlyStopping(monitor='val_loss', patience=patience, restore_best_weights=True)\n",
        "    history = model.fit(X_train.astype(int), y_train.astype(int), epochs=epochs, validation_data=(X_val, y_val), callbacks=[early_stopping])\n",
        "    return history\n",
        "\n",
        "history_cnn = train_model(cnn_model, X_train_padded, y_train, X_test_padded, y_test)\n",
        "def evaluate_model(model, X_test, y_test):\n",
        "    evaluation_result = model.evaluate(X_test, y_test)\n",
        "    print(\"Test Loss:\", evaluation_result[0])\n",
        "    print(\"Test Accuracy:\", evaluation_result[1])\n",
        "\n",
        "evaluate_model(cnn_model, X_test_padded, y_test)"
      ],
      "metadata": {
        "colab": {
          "base_uri": "https://localhost:8080/"
        },
        "id": "RwR7lV6e2RqX",
        "outputId": "b047de79-46c2-4fab-c2af-76e1b2081da1"
      },
      "execution_count": null,
      "outputs": [
        {
          "output_type": "stream",
          "name": "stdout",
          "text": [
            "Epoch 1/15\n",
            "\u001b[1m11135/11135\u001b[0m \u001b[32m━━━━━━━━━━━━━━━━━━━━\u001b[0m\u001b[37m\u001b[0m \u001b[1m553s\u001b[0m 49ms/step - accuracy: 0.7304 - loss: 0.7082 - val_accuracy: 0.8051 - val_loss: 0.4608\n",
            "Epoch 2/15\n",
            "\u001b[1m11135/11135\u001b[0m \u001b[32m━━━━━━━━━━━━━━━━━━━━\u001b[0m\u001b[37m\u001b[0m \u001b[1m564s\u001b[0m 50ms/step - accuracy: 0.8230 - loss: 0.4222 - val_accuracy: 0.8090 - val_loss: 0.4535\n",
            "Epoch 3/15\n",
            "\u001b[1m11135/11135\u001b[0m \u001b[32m━━━━━━━━━━━━━━━━━━━━\u001b[0m\u001b[37m\u001b[0m \u001b[1m547s\u001b[0m 48ms/step - accuracy: 0.8365 - loss: 0.3786 - val_accuracy: 0.8073 - val_loss: 0.4534\n",
            "Epoch 4/15\n",
            "\u001b[1m11135/11135\u001b[0m \u001b[32m━━━━━━━━━━━━━━━━━━━━\u001b[0m\u001b[37m\u001b[0m \u001b[1m574s\u001b[0m 49ms/step - accuracy: 0.8459 - loss: 0.3496 - val_accuracy: 0.8034 - val_loss: 0.4657\n",
            "Epoch 5/15\n",
            "\u001b[1m11135/11135\u001b[0m \u001b[32m━━━━━━━━━━━━━━━━━━━━\u001b[0m\u001b[37m\u001b[0m \u001b[1m557s\u001b[0m 49ms/step - accuracy: 0.8532 - loss: 0.3270 - val_accuracy: 0.7990 - val_loss: 0.4866\n",
            "Epoch 6/15\n",
            "\u001b[1m11135/11135\u001b[0m \u001b[32m━━━━━━━━━━━━━━━━━━━━\u001b[0m\u001b[37m\u001b[0m \u001b[1m554s\u001b[0m 50ms/step - accuracy: 0.8584 - loss: 0.3108 - val_accuracy: 0.7986 - val_loss: 0.5053\n",
            "\u001b[1m2784/2784\u001b[0m \u001b[32m━━━━━━━━━━━━━━━━━━━━\u001b[0m\u001b[37m\u001b[0m \u001b[1m33s\u001b[0m 12ms/step - accuracy: 0.8068 - loss: 0.4519\n",
            "Test Loss: 0.4534192979335785\n",
            "Test Accuracy: 0.8073416948318481\n"
          ]
        }
      ]
    },
    {
      "cell_type": "code",
      "source": [
        "import tensorflow as tf\n",
        "cnn_model.save('cnn_model_ru.keras')"
      ],
      "metadata": {
        "id": "CLXbtOCwmcla"
      },
      "execution_count": null,
      "outputs": []
    },
    {
      "cell_type": "code",
      "source": [
        "import tensorflow as tf\n",
        "\n",
        "model = tf.keras.models.load_model(\"cnn_model_ru.keras\")\n",
        "\n",
        "converter = tf.lite.TFLiteConverter.from_keras_model(model)\n",
        "converter.target_spec.supported_ops = [tf.lite.OpsSet.TFLITE_BUILTINS]\n",
        "converter.optimizations = [tf.lite.Optimize.DEFAULT]\n",
        "tflite_model = converter.convert()\n",
        "with open(\"cnn_model_ru.tflite\", \"wb\") as f:\n",
        "    f.write(tflite_model)"
      ],
      "metadata": {
        "colab": {
          "base_uri": "https://localhost:8080/"
        },
        "id": "wlYmCRDDiZio",
        "outputId": "364b6d21-efaa-4dde-b9aa-b139e5fa229b"
      },
      "execution_count": null,
      "outputs": [
        {
          "output_type": "stream",
          "name": "stdout",
          "text": [
            "Saved artifact at '/tmp/tmpq1h6vmqp'. The following endpoints are available:\n",
            "\n",
            "* Endpoint 'serve'\n",
            "  args_0 (POSITIONAL_ONLY): TensorSpec(shape=(None, 500), dtype=tf.float32, name='input_layer_2')\n",
            "Output Type:\n",
            "  TensorSpec(shape=(None, 6), dtype=tf.float32, name=None)\n",
            "Captures:\n",
            "  140464971633616: TensorSpec(shape=(), dtype=tf.resource, name=None)\n",
            "  140464971639760: TensorSpec(shape=(), dtype=tf.resource, name=None)\n",
            "  140464971634384: TensorSpec(shape=(), dtype=tf.resource, name=None)\n",
            "  140464971634000: TensorSpec(shape=(), dtype=tf.resource, name=None)\n",
            "  140464971644752: TensorSpec(shape=(), dtype=tf.resource, name=None)\n",
            "  140464971629584: TensorSpec(shape=(), dtype=tf.resource, name=None)\n",
            "  140464971635344: TensorSpec(shape=(), dtype=tf.resource, name=None)\n"
          ]
        }
      ]
    },
    {
      "cell_type": "code",
      "source": [
        "import re\n",
        "import numpy as np\n",
        "import nltk\n",
        "from nltk.corpus import stopwords\n",
        "from nltk.stem import PorterStemmer\n",
        "from nltk.tokenize import word_tokenize\n",
        "from tensorflow.keras.preprocessing.sequence import pad_sequences\n",
        "import tensorflow as tf\n",
        "\n",
        "nltk.download('punkt')\n",
        "nltk.download('stopwords')\n",
        "\n",
        "\n",
        "stemmer = PorterStemmer()\n",
        "stop_words = set(stopwords.words('english'))\n",
        "\n",
        "def clean_text(text):\n",
        "    print(\"Исходный текст:\", text)\n",
        "    text = text.lower()\n",
        "    text = re.sub(r'http\\S+|www\\.\\S+', '', text)\n",
        "    text = re.sub(r'[^\\w\\s]', '', text)\n",
        "    text = re.sub(r'\\w*\\d\\w*', '', text)\n",
        "\n",
        "    print(\"После очистки от URL и спецсимволов:\", text)\n",
        "    tokens = word_tokenize(text)\n",
        "    print(\"Токенизированный текст:\", tokens)\n",
        "\n",
        "    cleaned_tokens = [stemmer.stem(token) for token in tokens if token not in stop_words]\n",
        "    print(\"После стемминга и удаления стоп-слов:\", cleaned_tokens)\n",
        "    return ' '.join(cleaned_tokens)\n",
        "def load_tflite_model(model_path):\n",
        "    try:\n",
        "        interpreter = tf.lite.Interpreter(model_path=model_path)\n",
        "        interpreter.allocate_tensors()\n",
        "        print(f\"Модель загружена из {model_path}\")\n",
        "        return interpreter\n",
        "    except Exception as e:\n",
        "        print(f\"Ошибка при загрузке модели: {e}\")\n",
        "        return None\n",
        "\n",
        "def predict_emotion(interpreter, tokenizer, input_text, max_len=500):\n",
        "    print(f\"\\nПрогнозируем эмоцию для текста: '{input_text}'\")\n",
        "    cleaned_text = clean_text(input_text)\n",
        "    text_sequence = tokenizer.texts_to_sequences([cleaned_text])\n",
        "    print(f\"Текст после преобразования в последовательность индексов: {text_sequence}\")\n",
        "\n",
        "    text_padded = pad_sequences(text_sequence, maxlen=max_len, padding='post')\n",
        "    print(f\"Текст после паддинга: {text_padded}\")\n",
        "\n",
        "    input_details = interpreter.get_input_details()\n",
        "    output_details = interpreter.get_output_details()\n",
        "    interpreter.set_tensor(input_details[0]['index'], text_padded.astype(np.float32))\n",
        "    interpreter.invoke()\n",
        "\n",
        "    prediction = interpreter.get_tensor(output_details[0]['index'])\n",
        "    print(f\"Предсказание модели (логиты): {prediction}\")\n",
        "\n",
        "    predicted_label = np.argmax(prediction, axis=1)[0]\n",
        "    print(f\"Предсказанная метка (индекс): {predicted_label}\")\n",
        "\n",
        "    emotion_map = {0: 'sadness', 1: 'joy', 2: 'love', 3: 'anger', 4: 'fear', 5: 'surprise'}\n",
        "    predicted_emotion = emotion_map[predicted_label]\n",
        "\n",
        "    print(f\"Предсказанная эмоция: {predicted_emotion}\")\n",
        "    return predicted_emotion\n",
        "\n",
        "def emotion_recognition_loop(model_path, tokenizer):\n",
        "    print(\"Введите текст, чтобы распознать эмоцию (для выхода напишите 'exit'): \")\n",
        "    interpreter = load_tflite_model(model_path)\n",
        "    if not interpreter:\n",
        "        return\n",
        "\n",
        "    while True:\n",
        "        input_text = input(\"Введите текст: \")\n",
        "        if input_text.lower() == 'exit':\n",
        "            print(\"Выход из программы.\")\n",
        "            break\n",
        "        predicted_emotion = predict_emotion(interpreter, tokenizer, input_text)\n",
        "        print(f\"Предсказанная эмоция: {predicted_emotion}\")\n",
        "\n",
        "model_path = '/content/cnn_model_no_flex.tflite'  # Укажите путь к модели\n",
        "emotion_recognition_loop(model_path, tokenizer)\n",
        "\n",
        "\n",
        "\n"
      ],
      "metadata": {
        "colab": {
          "base_uri": "https://localhost:8080/",
          "height": 1000
        },
        "id": "myownag-ZMnG",
        "outputId": "30169b91-e36f-4c4e-d42b-9f543c46c051"
      },
      "execution_count": null,
      "outputs": [
        {
          "output_type": "stream",
          "name": "stderr",
          "text": [
            "[nltk_data] Downloading package punkt to /root/nltk_data...\n",
            "[nltk_data]   Package punkt is already up-to-date!\n",
            "[nltk_data] Downloading package stopwords to /root/nltk_data...\n",
            "[nltk_data]   Package stopwords is already up-to-date!\n"
          ]
        },
        {
          "output_type": "stream",
          "name": "stdout",
          "text": [
            "Введите текст, чтобы распознать эмоцию (для выхода напишите 'exit'): \n",
            "Модель загружена из /content/cnn_model_no_flex.tflite\n",
            "Введите текст: i am so happy\n",
            "\n",
            "Прогнозируем эмоцию для текста: 'i am so happy'\n",
            "Исходный текст: i am so happy\n",
            "После очистки от URL и спецсимволов: i am so happy\n",
            "Токенизированный текст: ['i', 'am', 'so', 'happy']\n",
            "После стемминга и удаления стоп-слов: ['happi']\n",
            "Текст после преобразования в последовательность индексов: [[52]]\n",
            "Текст после паддинга: [[52  0  0  0  0  0  0  0  0  0  0  0  0  0  0  0  0  0  0  0  0  0  0  0\n",
            "   0  0  0  0  0  0  0  0  0  0  0  0  0  0  0  0  0  0  0  0  0  0  0  0\n",
            "   0  0  0  0  0  0  0  0  0  0  0  0  0  0  0  0  0  0  0  0  0  0  0  0\n",
            "   0  0  0  0  0  0  0  0  0  0  0  0  0  0  0  0  0  0  0  0  0  0  0  0\n",
            "   0  0  0  0  0  0  0  0  0  0  0  0  0  0  0  0  0  0  0  0  0  0  0  0\n",
            "   0  0  0  0  0  0  0  0  0  0  0  0  0  0  0  0  0  0  0  0  0  0  0  0\n",
            "   0  0  0  0  0  0  0  0  0  0  0  0  0  0  0  0  0  0  0  0  0  0  0  0\n",
            "   0  0  0  0  0  0  0  0  0  0  0  0  0  0  0  0  0  0  0  0  0  0  0  0\n",
            "   0  0  0  0  0  0  0  0  0  0  0  0  0  0  0  0  0  0  0  0  0  0  0  0\n",
            "   0  0  0  0  0  0  0  0  0  0  0  0  0  0  0  0  0  0  0  0  0  0  0  0\n",
            "   0  0  0  0  0  0  0  0  0  0  0  0  0  0  0  0  0  0  0  0  0  0  0  0\n",
            "   0  0  0  0  0  0  0  0  0  0  0  0  0  0  0  0  0  0  0  0  0  0  0  0\n",
            "   0  0  0  0  0  0  0  0  0  0  0  0  0  0  0  0  0  0  0  0  0  0  0  0\n",
            "   0  0  0  0  0  0  0  0  0  0  0  0  0  0  0  0  0  0  0  0  0  0  0  0\n",
            "   0  0  0  0  0  0  0  0  0  0  0  0  0  0  0  0  0  0  0  0  0  0  0  0\n",
            "   0  0  0  0  0  0  0  0  0  0  0  0  0  0  0  0  0  0  0  0  0  0  0  0\n",
            "   0  0  0  0  0  0  0  0  0  0  0  0  0  0  0  0  0  0  0  0  0  0  0  0\n",
            "   0  0  0  0  0  0  0  0  0  0  0  0  0  0  0  0  0  0  0  0  0  0  0  0\n",
            "   0  0  0  0  0  0  0  0  0  0  0  0  0  0  0  0  0  0  0  0  0  0  0  0\n",
            "   0  0  0  0  0  0  0  0  0  0  0  0  0  0  0  0  0  0  0  0  0  0  0  0\n",
            "   0  0  0  0  0  0  0  0  0  0  0  0  0  0  0  0  0  0  0  0]]\n",
            "Предсказание модели (логиты): [[0.12422189 0.1885819  0.49808043 0.02927856 0.01629487 0.14354232]]\n",
            "Предсказанная метка (индекс): 2\n",
            "Предсказанная эмоция: love\n",
            "Предсказанная эмоция: love\n",
            "Введите текст: I didn't pass the exam.\n",
            "\n",
            "Прогнозируем эмоцию для текста: 'I didn't pass the exam.'\n",
            "Исходный текст: I didn't pass the exam.\n",
            "После очистки от URL и спецсимволов: i didnt pass the exam\n",
            "Токенизированный текст: ['i', 'didnt', 'pass', 'the', 'exam']\n",
            "После стемминга и удаления стоп-слов: ['didnt', 'pass', 'exam']\n",
            "Текст после преобразования в последовательность индексов: [[55, 437, 1143]]\n",
            "Текст после паддинга: [[  55  437 1143    0    0    0    0    0    0    0    0    0    0    0\n",
            "     0    0    0    0    0    0    0    0    0    0    0    0    0    0\n",
            "     0    0    0    0    0    0    0    0    0    0    0    0    0    0\n",
            "     0    0    0    0    0    0    0    0    0    0    0    0    0    0\n",
            "     0    0    0    0    0    0    0    0    0    0    0    0    0    0\n",
            "     0    0    0    0    0    0    0    0    0    0    0    0    0    0\n",
            "     0    0    0    0    0    0    0    0    0    0    0    0    0    0\n",
            "     0    0    0    0    0    0    0    0    0    0    0    0    0    0\n",
            "     0    0    0    0    0    0    0    0    0    0    0    0    0    0\n",
            "     0    0    0    0    0    0    0    0    0    0    0    0    0    0\n",
            "     0    0    0    0    0    0    0    0    0    0    0    0    0    0\n",
            "     0    0    0    0    0    0    0    0    0    0    0    0    0    0\n",
            "     0    0    0    0    0    0    0    0    0    0    0    0    0    0\n",
            "     0    0    0    0    0    0    0    0    0    0    0    0    0    0\n",
            "     0    0    0    0    0    0    0    0    0    0    0    0    0    0\n",
            "     0    0    0    0    0    0    0    0    0    0    0    0    0    0\n",
            "     0    0    0    0    0    0    0    0    0    0    0    0    0    0\n",
            "     0    0    0    0    0    0    0    0    0    0    0    0    0    0\n",
            "     0    0    0    0    0    0    0    0    0    0    0    0    0    0\n",
            "     0    0    0    0    0    0    0    0    0    0    0    0    0    0\n",
            "     0    0    0    0    0    0    0    0    0    0    0    0    0    0\n",
            "     0    0    0    0    0    0    0    0    0    0    0    0    0    0\n",
            "     0    0    0    0    0    0    0    0    0    0    0    0    0    0\n",
            "     0    0    0    0    0    0    0    0    0    0    0    0    0    0\n",
            "     0    0    0    0    0    0    0    0    0    0    0    0    0    0\n",
            "     0    0    0    0    0    0    0    0    0    0    0    0    0    0\n",
            "     0    0    0    0    0    0    0    0    0    0    0    0    0    0\n",
            "     0    0    0    0    0    0    0    0    0    0    0    0    0    0\n",
            "     0    0    0    0    0    0    0    0    0    0    0    0    0    0\n",
            "     0    0    0    0    0    0    0    0    0    0    0    0    0    0\n",
            "     0    0    0    0    0    0    0    0    0    0    0    0    0    0\n",
            "     0    0    0    0    0    0    0    0    0    0    0    0    0    0\n",
            "     0    0    0    0    0    0    0    0    0    0    0    0    0    0\n",
            "     0    0    0    0    0    0    0    0    0    0    0    0    0    0\n",
            "     0    0    0    0    0    0    0    0    0    0    0    0    0    0\n",
            "     0    0    0    0    0    0    0    0    0    0]]\n",
            "Предсказание модели (логиты): [[0.06462825 0.79080945 0.00130161 0.09733381 0.04316291 0.00276397]]\n",
            "Предсказанная метка (индекс): 1\n",
            "Предсказанная эмоция: joy\n",
            "Предсказанная эмоция: joy\n",
            "Введите текст: I did not pass the exam.\n",
            "\n",
            "Прогнозируем эмоцию для текста: 'I did not pass the exam.'\n",
            "Исходный текст: I did not pass the exam.\n",
            "После очистки от URL и спецсимволов: i did not pass the exam\n",
            "Токенизированный текст: ['i', 'did', 'not', 'pass', 'the', 'exam']\n",
            "После стемминга и удаления стоп-слов: ['pass', 'exam']\n",
            "Текст после преобразования в последовательность индексов: [[437, 1143]]\n",
            "Текст после паддинга: [[ 437 1143    0    0    0    0    0    0    0    0    0    0    0    0\n",
            "     0    0    0    0    0    0    0    0    0    0    0    0    0    0\n",
            "     0    0    0    0    0    0    0    0    0    0    0    0    0    0\n",
            "     0    0    0    0    0    0    0    0    0    0    0    0    0    0\n",
            "     0    0    0    0    0    0    0    0    0    0    0    0    0    0\n",
            "     0    0    0    0    0    0    0    0    0    0    0    0    0    0\n",
            "     0    0    0    0    0    0    0    0    0    0    0    0    0    0\n",
            "     0    0    0    0    0    0    0    0    0    0    0    0    0    0\n",
            "     0    0    0    0    0    0    0    0    0    0    0    0    0    0\n",
            "     0    0    0    0    0    0    0    0    0    0    0    0    0    0\n",
            "     0    0    0    0    0    0    0    0    0    0    0    0    0    0\n",
            "     0    0    0    0    0    0    0    0    0    0    0    0    0    0\n",
            "     0    0    0    0    0    0    0    0    0    0    0    0    0    0\n",
            "     0    0    0    0    0    0    0    0    0    0    0    0    0    0\n",
            "     0    0    0    0    0    0    0    0    0    0    0    0    0    0\n",
            "     0    0    0    0    0    0    0    0    0    0    0    0    0    0\n",
            "     0    0    0    0    0    0    0    0    0    0    0    0    0    0\n",
            "     0    0    0    0    0    0    0    0    0    0    0    0    0    0\n",
            "     0    0    0    0    0    0    0    0    0    0    0    0    0    0\n",
            "     0    0    0    0    0    0    0    0    0    0    0    0    0    0\n",
            "     0    0    0    0    0    0    0    0    0    0    0    0    0    0\n",
            "     0    0    0    0    0    0    0    0    0    0    0    0    0    0\n",
            "     0    0    0    0    0    0    0    0    0    0    0    0    0    0\n",
            "     0    0    0    0    0    0    0    0    0    0    0    0    0    0\n",
            "     0    0    0    0    0    0    0    0    0    0    0    0    0    0\n",
            "     0    0    0    0    0    0    0    0    0    0    0    0    0    0\n",
            "     0    0    0    0    0    0    0    0    0    0    0    0    0    0\n",
            "     0    0    0    0    0    0    0    0    0    0    0    0    0    0\n",
            "     0    0    0    0    0    0    0    0    0    0    0    0    0    0\n",
            "     0    0    0    0    0    0    0    0    0    0    0    0    0    0\n",
            "     0    0    0    0    0    0    0    0    0    0    0    0    0    0\n",
            "     0    0    0    0    0    0    0    0    0    0    0    0    0    0\n",
            "     0    0    0    0    0    0    0    0    0    0    0    0    0    0\n",
            "     0    0    0    0    0    0    0    0    0    0    0    0    0    0\n",
            "     0    0    0    0    0    0    0    0    0    0    0    0    0    0\n",
            "     0    0    0    0    0    0    0    0    0    0]]\n",
            "Предсказание модели (логиты): [[0.03012387 0.8953686  0.00133689 0.04592455 0.0250931  0.00215295]]\n",
            "Предсказанная метка (индекс): 1\n",
            "Предсказанная эмоция: joy\n",
            "Предсказанная эмоция: joy\n",
            "Введите текст: I didn't pass the exam. i am tired\n",
            "\n",
            "Прогнозируем эмоцию для текста: 'I didn't pass the exam. i am tired'\n",
            "Исходный текст: I didn't pass the exam. i am tired\n",
            "После очистки от URL и спецсимволов: i didnt pass the exam i am tired\n",
            "Токенизированный текст: ['i', 'didnt', 'pass', 'the', 'exam', 'i', 'am', 'tired']\n",
            "После стемминга и удаления стоп-слов: ['didnt', 'pass', 'exam', 'tire']\n",
            "Текст после преобразования в последовательность индексов: [[55, 437, 1143, 206]]\n",
            "Текст после паддинга: [[  55  437 1143  206    0    0    0    0    0    0    0    0    0    0\n",
            "     0    0    0    0    0    0    0    0    0    0    0    0    0    0\n",
            "     0    0    0    0    0    0    0    0    0    0    0    0    0    0\n",
            "     0    0    0    0    0    0    0    0    0    0    0    0    0    0\n",
            "     0    0    0    0    0    0    0    0    0    0    0    0    0    0\n",
            "     0    0    0    0    0    0    0    0    0    0    0    0    0    0\n",
            "     0    0    0    0    0    0    0    0    0    0    0    0    0    0\n",
            "     0    0    0    0    0    0    0    0    0    0    0    0    0    0\n",
            "     0    0    0    0    0    0    0    0    0    0    0    0    0    0\n",
            "     0    0    0    0    0    0    0    0    0    0    0    0    0    0\n",
            "     0    0    0    0    0    0    0    0    0    0    0    0    0    0\n",
            "     0    0    0    0    0    0    0    0    0    0    0    0    0    0\n",
            "     0    0    0    0    0    0    0    0    0    0    0    0    0    0\n",
            "     0    0    0    0    0    0    0    0    0    0    0    0    0    0\n",
            "     0    0    0    0    0    0    0    0    0    0    0    0    0    0\n",
            "     0    0    0    0    0    0    0    0    0    0    0    0    0    0\n",
            "     0    0    0    0    0    0    0    0    0    0    0    0    0    0\n",
            "     0    0    0    0    0    0    0    0    0    0    0    0    0    0\n",
            "     0    0    0    0    0    0    0    0    0    0    0    0    0    0\n",
            "     0    0    0    0    0    0    0    0    0    0    0    0    0    0\n",
            "     0    0    0    0    0    0    0    0    0    0    0    0    0    0\n",
            "     0    0    0    0    0    0    0    0    0    0    0    0    0    0\n",
            "     0    0    0    0    0    0    0    0    0    0    0    0    0    0\n",
            "     0    0    0    0    0    0    0    0    0    0    0    0    0    0\n",
            "     0    0    0    0    0    0    0    0    0    0    0    0    0    0\n",
            "     0    0    0    0    0    0    0    0    0    0    0    0    0    0\n",
            "     0    0    0    0    0    0    0    0    0    0    0    0    0    0\n",
            "     0    0    0    0    0    0    0    0    0    0    0    0    0    0\n",
            "     0    0    0    0    0    0    0    0    0    0    0    0    0    0\n",
            "     0    0    0    0    0    0    0    0    0    0    0    0    0    0\n",
            "     0    0    0    0    0    0    0    0    0    0    0    0    0    0\n",
            "     0    0    0    0    0    0    0    0    0    0    0    0    0    0\n",
            "     0    0    0    0    0    0    0    0    0    0    0    0    0    0\n",
            "     0    0    0    0    0    0    0    0    0    0    0    0    0    0\n",
            "     0    0    0    0    0    0    0    0    0    0    0    0    0    0\n",
            "     0    0    0    0    0    0    0    0    0    0]]\n",
            "Предсказание модели (логиты): [[0.65737486 0.28982377 0.00107141 0.04374975 0.00518445 0.00279577]]\n",
            "Предсказанная метка (индекс): 0\n",
            "Предсказанная эмоция: sadness\n",
            "Предсказанная эмоция: sadness\n",
            "Введите текст: Today Vladik decided to pamper\n",
            "\n",
            "Прогнозируем эмоцию для текста: 'Today Vladik decided to pamper'\n",
            "Исходный текст: Today Vladik decided to pamper\n",
            "После очистки от URL и спецсимволов: today vladik decided to pamper\n",
            "Токенизированный текст: ['today', 'vladik', 'decided', 'to', 'pamper']\n",
            "После стемминга и удаления стоп-слов: ['today', 'vladik', 'decid', 'pamper']\n",
            "Текст после преобразования в последовательность индексов: [[48, 271, 3412]]\n",
            "Текст после паддинга: [[  48  271 3412    0    0    0    0    0    0    0    0    0    0    0\n",
            "     0    0    0    0    0    0    0    0    0    0    0    0    0    0\n",
            "     0    0    0    0    0    0    0    0    0    0    0    0    0    0\n",
            "     0    0    0    0    0    0    0    0    0    0    0    0    0    0\n",
            "     0    0    0    0    0    0    0    0    0    0    0    0    0    0\n",
            "     0    0    0    0    0    0    0    0    0    0    0    0    0    0\n",
            "     0    0    0    0    0    0    0    0    0    0    0    0    0    0\n",
            "     0    0    0    0    0    0    0    0    0    0    0    0    0    0\n",
            "     0    0    0    0    0    0    0    0    0    0    0    0    0    0\n",
            "     0    0    0    0    0    0    0    0    0    0    0    0    0    0\n",
            "     0    0    0    0    0    0    0    0    0    0    0    0    0    0\n",
            "     0    0    0    0    0    0    0    0    0    0    0    0    0    0\n",
            "     0    0    0    0    0    0    0    0    0    0    0    0    0    0\n",
            "     0    0    0    0    0    0    0    0    0    0    0    0    0    0\n",
            "     0    0    0    0    0    0    0    0    0    0    0    0    0    0\n",
            "     0    0    0    0    0    0    0    0    0    0    0    0    0    0\n",
            "     0    0    0    0    0    0    0    0    0    0    0    0    0    0\n",
            "     0    0    0    0    0    0    0    0    0    0    0    0    0    0\n",
            "     0    0    0    0    0    0    0    0    0    0    0    0    0    0\n",
            "     0    0    0    0    0    0    0    0    0    0    0    0    0    0\n",
            "     0    0    0    0    0    0    0    0    0    0    0    0    0    0\n",
            "     0    0    0    0    0    0    0    0    0    0    0    0    0    0\n",
            "     0    0    0    0    0    0    0    0    0    0    0    0    0    0\n",
            "     0    0    0    0    0    0    0    0    0    0    0    0    0    0\n",
            "     0    0    0    0    0    0    0    0    0    0    0    0    0    0\n",
            "     0    0    0    0    0    0    0    0    0    0    0    0    0    0\n",
            "     0    0    0    0    0    0    0    0    0    0    0    0    0    0\n",
            "     0    0    0    0    0    0    0    0    0    0    0    0    0    0\n",
            "     0    0    0    0    0    0    0    0    0    0    0    0    0    0\n",
            "     0    0    0    0    0    0    0    0    0    0    0    0    0    0\n",
            "     0    0    0    0    0    0    0    0    0    0    0    0    0    0\n",
            "     0    0    0    0    0    0    0    0    0    0    0    0    0    0\n",
            "     0    0    0    0    0    0    0    0    0    0    0    0    0    0\n",
            "     0    0    0    0    0    0    0    0    0    0    0    0    0    0\n",
            "     0    0    0    0    0    0    0    0    0    0    0    0    0    0\n",
            "     0    0    0    0    0    0    0    0    0    0]]\n",
            "Предсказание модели (логиты): [[0.5831787  0.00310224 0.248246   0.00774035 0.00210748 0.15562516]]\n",
            "Предсказанная метка (индекс): 0\n",
            "Предсказанная эмоция: sadness\n",
            "Предсказанная эмоция: sadness\n"
          ]
        },
        {
          "output_type": "error",
          "ename": "KeyboardInterrupt",
          "evalue": "Interrupted by user",
          "traceback": [
            "\u001b[0;31m---------------------------------------------------------------------------\u001b[0m",
            "\u001b[0;31mKeyboardInterrupt\u001b[0m                         Traceback (most recent call last)",
            "\u001b[0;32m<ipython-input-13-7092209ae8be>\u001b[0m in \u001b[0;36m<cell line: 0>\u001b[0;34m()\u001b[0m\n\u001b[1;32m    104\u001b[0m \u001b[0;31m# Пример вызова функции\u001b[0m\u001b[0;34m\u001b[0m\u001b[0;34m\u001b[0m\u001b[0m\n\u001b[1;32m    105\u001b[0m \u001b[0mmodel_path\u001b[0m \u001b[0;34m=\u001b[0m \u001b[0;34m'/content/cnn_model_no_flex.tflite'\u001b[0m  \u001b[0;31m# Укажите путь к модели\u001b[0m\u001b[0;34m\u001b[0m\u001b[0;34m\u001b[0m\u001b[0m\n\u001b[0;32m--> 106\u001b[0;31m \u001b[0memotion_recognition_loop\u001b[0m\u001b[0;34m(\u001b[0m\u001b[0mmodel_path\u001b[0m\u001b[0;34m,\u001b[0m \u001b[0mtokenizer\u001b[0m\u001b[0;34m)\u001b[0m\u001b[0;34m\u001b[0m\u001b[0;34m\u001b[0m\u001b[0m\n\u001b[0m\u001b[1;32m    107\u001b[0m \u001b[0;34m\u001b[0m\u001b[0m\n\u001b[1;32m    108\u001b[0m \u001b[0;34m\u001b[0m\u001b[0m\n",
            "\u001b[0;32m<ipython-input-13-7092209ae8be>\u001b[0m in \u001b[0;36memotion_recognition_loop\u001b[0;34m(model_path, tokenizer)\u001b[0m\n\u001b[1;32m     89\u001b[0m     \u001b[0;32mwhile\u001b[0m \u001b[0;32mTrue\u001b[0m\u001b[0;34m:\u001b[0m\u001b[0;34m\u001b[0m\u001b[0;34m\u001b[0m\u001b[0m\n\u001b[1;32m     90\u001b[0m         \u001b[0;31m# Ожидание ввода текста\u001b[0m\u001b[0;34m\u001b[0m\u001b[0;34m\u001b[0m\u001b[0m\n\u001b[0;32m---> 91\u001b[0;31m         \u001b[0minput_text\u001b[0m \u001b[0;34m=\u001b[0m \u001b[0minput\u001b[0m\u001b[0;34m(\u001b[0m\u001b[0;34m\"Введите текст: \"\u001b[0m\u001b[0;34m)\u001b[0m\u001b[0;34m\u001b[0m\u001b[0;34m\u001b[0m\u001b[0m\n\u001b[0m\u001b[1;32m     92\u001b[0m \u001b[0;34m\u001b[0m\u001b[0m\n\u001b[1;32m     93\u001b[0m         \u001b[0;31m# Условие выхода\u001b[0m\u001b[0;34m\u001b[0m\u001b[0;34m\u001b[0m\u001b[0m\n",
            "\u001b[0;32m/usr/local/lib/python3.11/dist-packages/ipykernel/kernelbase.py\u001b[0m in \u001b[0;36mraw_input\u001b[0;34m(self, prompt)\u001b[0m\n\u001b[1;32m   1175\u001b[0m                 \u001b[0;34m\"raw_input was called, but this frontend does not support input requests.\"\u001b[0m\u001b[0;34m\u001b[0m\u001b[0;34m\u001b[0m\u001b[0m\n\u001b[1;32m   1176\u001b[0m             )\n\u001b[0;32m-> 1177\u001b[0;31m         return self._input_request(\n\u001b[0m\u001b[1;32m   1178\u001b[0m             \u001b[0mstr\u001b[0m\u001b[0;34m(\u001b[0m\u001b[0mprompt\u001b[0m\u001b[0;34m)\u001b[0m\u001b[0;34m,\u001b[0m\u001b[0;34m\u001b[0m\u001b[0;34m\u001b[0m\u001b[0m\n\u001b[1;32m   1179\u001b[0m             \u001b[0mself\u001b[0m\u001b[0;34m.\u001b[0m\u001b[0m_parent_ident\u001b[0m\u001b[0;34m[\u001b[0m\u001b[0;34m\"shell\"\u001b[0m\u001b[0;34m]\u001b[0m\u001b[0;34m,\u001b[0m\u001b[0;34m\u001b[0m\u001b[0;34m\u001b[0m\u001b[0m\n",
            "\u001b[0;32m/usr/local/lib/python3.11/dist-packages/ipykernel/kernelbase.py\u001b[0m in \u001b[0;36m_input_request\u001b[0;34m(self, prompt, ident, parent, password)\u001b[0m\n\u001b[1;32m   1217\u001b[0m             \u001b[0;32mexcept\u001b[0m \u001b[0mKeyboardInterrupt\u001b[0m\u001b[0;34m:\u001b[0m\u001b[0;34m\u001b[0m\u001b[0;34m\u001b[0m\u001b[0m\n\u001b[1;32m   1218\u001b[0m                 \u001b[0;31m# re-raise KeyboardInterrupt, to truncate traceback\u001b[0m\u001b[0;34m\u001b[0m\u001b[0;34m\u001b[0m\u001b[0m\n\u001b[0;32m-> 1219\u001b[0;31m                 \u001b[0;32mraise\u001b[0m \u001b[0mKeyboardInterrupt\u001b[0m\u001b[0;34m(\u001b[0m\u001b[0;34m\"Interrupted by user\"\u001b[0m\u001b[0;34m)\u001b[0m \u001b[0;32mfrom\u001b[0m \u001b[0;32mNone\u001b[0m\u001b[0;34m\u001b[0m\u001b[0;34m\u001b[0m\u001b[0m\n\u001b[0m\u001b[1;32m   1220\u001b[0m             \u001b[0;32mexcept\u001b[0m \u001b[0mException\u001b[0m\u001b[0;34m:\u001b[0m\u001b[0;34m\u001b[0m\u001b[0;34m\u001b[0m\u001b[0m\n\u001b[1;32m   1221\u001b[0m                 \u001b[0mself\u001b[0m\u001b[0;34m.\u001b[0m\u001b[0mlog\u001b[0m\u001b[0;34m.\u001b[0m\u001b[0mwarning\u001b[0m\u001b[0;34m(\u001b[0m\u001b[0;34m\"Invalid Message:\"\u001b[0m\u001b[0;34m,\u001b[0m \u001b[0mexc_info\u001b[0m\u001b[0;34m=\u001b[0m\u001b[0;32mTrue\u001b[0m\u001b[0;34m)\u001b[0m\u001b[0;34m\u001b[0m\u001b[0;34m\u001b[0m\u001b[0m\n",
            "\u001b[0;31mKeyboardInterrupt\u001b[0m: Interrupted by user"
          ]
        }
      ]
    },
    {
      "cell_type": "code",
      "source": [
        "import tensorflow as tf\n",
        "import numpy as np\n",
        "\n",
        "model_path = '/content/cnn_model.tflite'\n",
        "interpreter = tf.lite.Interpreter(model_path=model_path)\n",
        "input_details = interpreter.get_input_details()\n",
        "output_details = interpreter.get_output_details()\n",
        "\n",
        "print(\"Input details:\", input_details)\n",
        "print(\"Output details:\", output_details)\n",
        "\n",
        "input_shape = input_details[0]['shape']\n",
        "input_dtype = input_details[0]['dtype']\n",
        "print(f\"Expected input shape: {input_shape}\")\n",
        "print(f\"Input dtype: {input_dtype}\")\n",
        "\n",
        "input_data = np.random.random([1, 500]).astype(np.float32)\n",
        "interpreter.allocate_tensors()\n",
        "interpreter.set_tensor(input_details[0]['index'], input_data)\n",
        "try:\n",
        "    interpreter.invoke()\n",
        "except Exception as e:\n",
        "    print(\"Error during model inference:\", e)\n",
        "\n",
        "output_data = interpreter.get_tensor(output_details[0]['index'])\n",
        "print(\"Output data:\", output_data)\n",
        "predicted_class = np.argmax(output_data, axis=1)\n",
        "print(f\"Predicted class: {predicted_class}\")\n"
      ],
      "metadata": {
        "colab": {
          "base_uri": "https://localhost:8080/"
        },
        "id": "TnFE6mgtdbZ9",
        "outputId": "a4e10951-ee14-437c-8f67-9c8d00492d81"
      },
      "execution_count": null,
      "outputs": [
        {
          "output_type": "stream",
          "name": "stdout",
          "text": [
            "Input details: [{'name': 'serving_default_inputs:0', 'index': 0, 'shape': array([  1, 500], dtype=int32), 'shape_signature': array([ -1, 500], dtype=int32), 'dtype': <class 'numpy.float32'>, 'quantization': (0.0, 0), 'quantization_parameters': {'scales': array([], dtype=float32), 'zero_points': array([], dtype=int32), 'quantized_dimension': 0}, 'sparsity_parameters': {}}]\n",
            "Output details: [{'name': 'StatefulPartitionedCall:0', 'index': 55, 'shape': array([1, 6], dtype=int32), 'shape_signature': array([-1,  6], dtype=int32), 'dtype': <class 'numpy.float32'>, 'quantization': (0.0, 0), 'quantization_parameters': {'scales': array([], dtype=float32), 'zero_points': array([], dtype=int32), 'quantized_dimension': 0}, 'sparsity_parameters': {}}]\n",
            "Expected input shape: [  1 500]\n",
            "Input dtype: <class 'numpy.float32'>\n",
            "Error during model inference: tensorflow/lite/kernels/read_variable.cc:67 variable != nullptr was not true.Node number 15 (READ_VARIABLE) failed to invoke.\n",
            "Output data: [[-0.0308024  -0.04925568 -0.07138503 -0.00956615  0.11182594 -0.00927156]]\n",
            "Predicted class: [4]\n"
          ]
        }
      ]
    }
  ]
}